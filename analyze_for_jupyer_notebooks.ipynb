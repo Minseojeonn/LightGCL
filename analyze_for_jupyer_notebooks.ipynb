{
 "cells": [
  {
   "cell_type": "code",
   "execution_count": null,
   "metadata": {},
   "outputs": [],
   "source": [
    "import pickle\n",
    "path = 'data/' + \"telp\" + '/'\n",
    "f = open(path+'trnMat.pkl','rb')\n",
    "train = pickle.load(f)\n",
    "train_csr = (train!=0).astype(np.float32)\n",
    "f = open(path+'tstMat.pkl','rb')\n",
    "test = pickle.load(f)\n",
    "print('Data loaded.')"
   ]
  }
 ],
 "metadata": {
  "kernelspec": {
   "display_name": "Tesla_dvelop",
   "language": "python",
   "name": "python3"
  },
  "language_info": {
   "name": "python",
   "version": "3.10.4"
  }
 },
 "nbformat": 4,
 "nbformat_minor": 2
}
